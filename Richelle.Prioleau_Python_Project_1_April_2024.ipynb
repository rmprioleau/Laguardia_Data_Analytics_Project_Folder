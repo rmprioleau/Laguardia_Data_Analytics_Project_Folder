{
 "cells": [
  {
   "cell_type": "code",
   "execution_count": 58,
   "id": "cc8a191b",
   "metadata": {},
   "outputs": [],
   "source": [
    "import pandas as pd\n",
    "import matplotlib.pyplot as plt"
   ]
  },
  {
   "cell_type": "code",
   "execution_count": 2,
   "id": "50a65cd7",
   "metadata": {},
   "outputs": [],
   "source": [
    "df = pd.read_csv('https://raw.githubusercontent.com/CunyLaguardiaDataAnalytics/datasets/master/2014-15_To_2016-17_School-_Level_NYC_Regents_Report_For_All_Variables.csv'\n",
    ")"
   ]
  },
  {
   "cell_type": "code",
   "execution_count": null,
   "id": "ad647a16",
   "metadata": {},
   "outputs": [],
   "source": [
    "#The goal of this analysis is to identify and compare one high-volume school in queens and one high-volume school in Manhattan by looking at their performance in 2015 for Common Core Algebra for the K-8 kids and determine if their performance increased or decreased in 2017. I am defining high-volume as having 90 or more test takers and I'm using the values in the \"Total Tested\" column to make this determination. I will do this comparison between 2015 and 2017 performance by looking at the two data points \"Mean Score\" and \"Percent Scoring 80 or Above\"."
   ]
  },
  {
   "cell_type": "code",
   "execution_count": 3,
   "id": "9cb9c9e6",
   "metadata": {
    "scrolled": true
   },
   "outputs": [
    {
     "data": {
      "text/html": [
       "<div>\n",
       "<style scoped>\n",
       "    .dataframe tbody tr th:only-of-type {\n",
       "        vertical-align: middle;\n",
       "    }\n",
       "\n",
       "    .dataframe tbody tr th {\n",
       "        vertical-align: top;\n",
       "    }\n",
       "\n",
       "    .dataframe thead th {\n",
       "        text-align: right;\n",
       "    }\n",
       "</style>\n",
       "<table border=\"1\" class=\"dataframe\">\n",
       "  <thead>\n",
       "    <tr style=\"text-align: right;\">\n",
       "      <th></th>\n",
       "      <th>School DBN</th>\n",
       "      <th>School Name</th>\n",
       "      <th>School Level</th>\n",
       "      <th>Regents Exam</th>\n",
       "      <th>Year</th>\n",
       "      <th>Total Tested</th>\n",
       "      <th>Mean Score</th>\n",
       "      <th>Number Scoring Below 65</th>\n",
       "      <th>Percent Scoring Below 65</th>\n",
       "      <th>Number Scoring 65 or Above</th>\n",
       "      <th>Percent Scoring 65 or Above</th>\n",
       "      <th>Number Scoring 80 or Above</th>\n",
       "      <th>Percent Scoring 80 or Above</th>\n",
       "      <th>Number Scoring CR</th>\n",
       "      <th>Percent Scoring CR</th>\n",
       "    </tr>\n",
       "  </thead>\n",
       "  <tbody>\n",
       "    <tr>\n",
       "      <th>0</th>\n",
       "      <td>01M034</td>\n",
       "      <td>P.S. 034 Franklin D. Roosevelt</td>\n",
       "      <td>K-8</td>\n",
       "      <td>Common Core Algebra</td>\n",
       "      <td>2017</td>\n",
       "      <td>4</td>\n",
       "      <td>s</td>\n",
       "      <td>s</td>\n",
       "      <td>s</td>\n",
       "      <td>s</td>\n",
       "      <td>s</td>\n",
       "      <td>s</td>\n",
       "      <td>s</td>\n",
       "      <td>na</td>\n",
       "      <td>na</td>\n",
       "    </tr>\n",
       "    <tr>\n",
       "      <th>1</th>\n",
       "      <td>01M034</td>\n",
       "      <td>P.S. 034 Franklin D. Roosevelt</td>\n",
       "      <td>K-8</td>\n",
       "      <td>Living Environment</td>\n",
       "      <td>2015</td>\n",
       "      <td>16</td>\n",
       "      <td>77.9</td>\n",
       "      <td>1</td>\n",
       "      <td>6.3</td>\n",
       "      <td>15</td>\n",
       "      <td>93.8</td>\n",
       "      <td>7</td>\n",
       "      <td>43.8</td>\n",
       "      <td>na</td>\n",
       "      <td>na</td>\n",
       "    </tr>\n",
       "    <tr>\n",
       "      <th>2</th>\n",
       "      <td>01M034</td>\n",
       "      <td>P.S. 034 Franklin D. Roosevelt</td>\n",
       "      <td>K-8</td>\n",
       "      <td>Living Environment</td>\n",
       "      <td>2016</td>\n",
       "      <td>9</td>\n",
       "      <td>74</td>\n",
       "      <td>1</td>\n",
       "      <td>11.1</td>\n",
       "      <td>8</td>\n",
       "      <td>88.9</td>\n",
       "      <td>2</td>\n",
       "      <td>22.2</td>\n",
       "      <td>na</td>\n",
       "      <td>na</td>\n",
       "    </tr>\n",
       "    <tr>\n",
       "      <th>3</th>\n",
       "      <td>01M140</td>\n",
       "      <td>P.S. 140 Nathan Straus</td>\n",
       "      <td>K-8</td>\n",
       "      <td>Common Core Algebra</td>\n",
       "      <td>2016</td>\n",
       "      <td>3</td>\n",
       "      <td>s</td>\n",
       "      <td>s</td>\n",
       "      <td>s</td>\n",
       "      <td>s</td>\n",
       "      <td>s</td>\n",
       "      <td>s</td>\n",
       "      <td>s</td>\n",
       "      <td>na</td>\n",
       "      <td>na</td>\n",
       "    </tr>\n",
       "    <tr>\n",
       "      <th>4</th>\n",
       "      <td>01M140</td>\n",
       "      <td>P.S. 140 Nathan Straus</td>\n",
       "      <td>K-8</td>\n",
       "      <td>Common Core Algebra</td>\n",
       "      <td>2017</td>\n",
       "      <td>2</td>\n",
       "      <td>s</td>\n",
       "      <td>s</td>\n",
       "      <td>s</td>\n",
       "      <td>s</td>\n",
       "      <td>s</td>\n",
       "      <td>s</td>\n",
       "      <td>s</td>\n",
       "      <td>na</td>\n",
       "      <td>na</td>\n",
       "    </tr>\n",
       "    <tr>\n",
       "      <th>...</th>\n",
       "      <td>...</td>\n",
       "      <td>...</td>\n",
       "      <td>...</td>\n",
       "      <td>...</td>\n",
       "      <td>...</td>\n",
       "      <td>...</td>\n",
       "      <td>...</td>\n",
       "      <td>...</td>\n",
       "      <td>...</td>\n",
       "      <td>...</td>\n",
       "      <td>...</td>\n",
       "      <td>...</td>\n",
       "      <td>...</td>\n",
       "      <td>...</td>\n",
       "      <td>...</td>\n",
       "    </tr>\n",
       "    <tr>\n",
       "      <th>212326</th>\n",
       "      <td>84X717</td>\n",
       "      <td>Icahn Charter School</td>\n",
       "      <td>K-8</td>\n",
       "      <td>Living Environment</td>\n",
       "      <td>2016</td>\n",
       "      <td>8</td>\n",
       "      <td>s</td>\n",
       "      <td>s</td>\n",
       "      <td>s</td>\n",
       "      <td>s</td>\n",
       "      <td>s</td>\n",
       "      <td>s</td>\n",
       "      <td>s</td>\n",
       "      <td>na</td>\n",
       "      <td>na</td>\n",
       "    </tr>\n",
       "    <tr>\n",
       "      <th>212327</th>\n",
       "      <td>84X717</td>\n",
       "      <td>Icahn Charter School</td>\n",
       "      <td>K-8</td>\n",
       "      <td>Living Environment</td>\n",
       "      <td>2016</td>\n",
       "      <td>5</td>\n",
       "      <td>s</td>\n",
       "      <td>s</td>\n",
       "      <td>s</td>\n",
       "      <td>s</td>\n",
       "      <td>s</td>\n",
       "      <td>s</td>\n",
       "      <td>s</td>\n",
       "      <td>na</td>\n",
       "      <td>na</td>\n",
       "    </tr>\n",
       "    <tr>\n",
       "      <th>212328</th>\n",
       "      <td>84X717</td>\n",
       "      <td>Icahn Charter School</td>\n",
       "      <td>K-8</td>\n",
       "      <td>Living Environment</td>\n",
       "      <td>2017</td>\n",
       "      <td>6</td>\n",
       "      <td>s</td>\n",
       "      <td>s</td>\n",
       "      <td>s</td>\n",
       "      <td>s</td>\n",
       "      <td>s</td>\n",
       "      <td>s</td>\n",
       "      <td>s</td>\n",
       "      <td>na</td>\n",
       "      <td>na</td>\n",
       "    </tr>\n",
       "    <tr>\n",
       "      <th>212329</th>\n",
       "      <td>84X717</td>\n",
       "      <td>Icahn Charter School</td>\n",
       "      <td>K-8</td>\n",
       "      <td>Living Environment</td>\n",
       "      <td>2017</td>\n",
       "      <td>4</td>\n",
       "      <td>s</td>\n",
       "      <td>s</td>\n",
       "      <td>s</td>\n",
       "      <td>s</td>\n",
       "      <td>s</td>\n",
       "      <td>s</td>\n",
       "      <td>s</td>\n",
       "      <td>na</td>\n",
       "      <td>na</td>\n",
       "    </tr>\n",
       "    <tr>\n",
       "      <th>212330</th>\n",
       "      <td>84X717</td>\n",
       "      <td>Icahn Charter School</td>\n",
       "      <td>K-8</td>\n",
       "      <td>U.S. History and Government</td>\n",
       "      <td>2015</td>\n",
       "      <td>1</td>\n",
       "      <td>s</td>\n",
       "      <td>s</td>\n",
       "      <td>s</td>\n",
       "      <td>s</td>\n",
       "      <td>s</td>\n",
       "      <td>s</td>\n",
       "      <td>s</td>\n",
       "      <td>na</td>\n",
       "      <td>na</td>\n",
       "    </tr>\n",
       "  </tbody>\n",
       "</table>\n",
       "<p>212331 rows × 15 columns</p>\n",
       "</div>"
      ],
      "text/plain": [
       "       School DBN                     School Name School Level  \\\n",
       "0          01M034  P.S. 034 Franklin D. Roosevelt          K-8   \n",
       "1          01M034  P.S. 034 Franklin D. Roosevelt          K-8   \n",
       "2          01M034  P.S. 034 Franklin D. Roosevelt          K-8   \n",
       "3          01M140          P.S. 140 Nathan Straus          K-8   \n",
       "4          01M140          P.S. 140 Nathan Straus          K-8   \n",
       "...           ...                             ...          ...   \n",
       "212326     84X717            Icahn Charter School          K-8   \n",
       "212327     84X717            Icahn Charter School          K-8   \n",
       "212328     84X717            Icahn Charter School          K-8   \n",
       "212329     84X717            Icahn Charter School          K-8   \n",
       "212330     84X717            Icahn Charter School          K-8   \n",
       "\n",
       "                       Regents Exam  Year  Total Tested Mean Score  \\\n",
       "0               Common Core Algebra  2017             4          s   \n",
       "1                Living Environment  2015            16       77.9   \n",
       "2                Living Environment  2016             9         74   \n",
       "3               Common Core Algebra  2016             3          s   \n",
       "4               Common Core Algebra  2017             2          s   \n",
       "...                             ...   ...           ...        ...   \n",
       "212326           Living Environment  2016             8          s   \n",
       "212327           Living Environment  2016             5          s   \n",
       "212328           Living Environment  2017             6          s   \n",
       "212329           Living Environment  2017             4          s   \n",
       "212330  U.S. History and Government  2015             1          s   \n",
       "\n",
       "       Number Scoring Below 65 Percent Scoring Below 65  \\\n",
       "0                            s                        s   \n",
       "1                            1                      6.3   \n",
       "2                            1                     11.1   \n",
       "3                            s                        s   \n",
       "4                            s                        s   \n",
       "...                        ...                      ...   \n",
       "212326                       s                        s   \n",
       "212327                       s                        s   \n",
       "212328                       s                        s   \n",
       "212329                       s                        s   \n",
       "212330                       s                        s   \n",
       "\n",
       "       Number Scoring 65 or Above Percent Scoring 65 or Above  \\\n",
       "0                               s                           s   \n",
       "1                              15                        93.8   \n",
       "2                               8                        88.9   \n",
       "3                               s                           s   \n",
       "4                               s                           s   \n",
       "...                           ...                         ...   \n",
       "212326                          s                           s   \n",
       "212327                          s                           s   \n",
       "212328                          s                           s   \n",
       "212329                          s                           s   \n",
       "212330                          s                           s   \n",
       "\n",
       "       Number Scoring 80 or Above Percent Scoring 80 or Above  \\\n",
       "0                               s                           s   \n",
       "1                               7                        43.8   \n",
       "2                               2                        22.2   \n",
       "3                               s                           s   \n",
       "4                               s                           s   \n",
       "...                           ...                         ...   \n",
       "212326                          s                           s   \n",
       "212327                          s                           s   \n",
       "212328                          s                           s   \n",
       "212329                          s                           s   \n",
       "212330                          s                           s   \n",
       "\n",
       "       Number Scoring CR Percent Scoring CR  \n",
       "0                     na                 na  \n",
       "1                     na                 na  \n",
       "2                     na                 na  \n",
       "3                     na                 na  \n",
       "4                     na                 na  \n",
       "...                  ...                ...  \n",
       "212326                na                 na  \n",
       "212327                na                 na  \n",
       "212328                na                 na  \n",
       "212329                na                 na  \n",
       "212330                na                 na  \n",
       "\n",
       "[212331 rows x 15 columns]"
      ]
     },
     "execution_count": 3,
     "metadata": {},
     "output_type": "execute_result"
    }
   ],
   "source": [
    "df"
   ]
  },
  {
   "cell_type": "code",
   "execution_count": 4,
   "id": "47954a45",
   "metadata": {},
   "outputs": [
    {
     "name": "stdout",
     "output_type": "stream",
     "text": [
      "<class 'pandas.core.frame.DataFrame'>\n",
      "RangeIndex: 212331 entries, 0 to 212330\n",
      "Data columns (total 15 columns):\n",
      " #   Column                       Non-Null Count   Dtype \n",
      "---  ------                       --------------   ----- \n",
      " 0   School DBN                   212331 non-null  object\n",
      " 1   School Name                  212331 non-null  object\n",
      " 2   School Level                 212331 non-null  object\n",
      " 3   Regents Exam                 212321 non-null  object\n",
      " 4   Year                         212331 non-null  int64 \n",
      " 5   Total Tested                 212331 non-null  int64 \n",
      " 6   Mean Score                   212331 non-null  object\n",
      " 7   Number Scoring Below 65      212331 non-null  object\n",
      " 8   Percent Scoring Below 65     212331 non-null  object\n",
      " 9   Number Scoring 65 or Above   212331 non-null  object\n",
      " 10  Percent Scoring 65 or Above  212331 non-null  object\n",
      " 11  Number Scoring 80 or Above   212331 non-null  object\n",
      " 12  Percent Scoring 80 or Above  212331 non-null  object\n",
      " 13  Number Scoring CR            212331 non-null  object\n",
      " 14  Percent Scoring CR           212331 non-null  object\n",
      "dtypes: int64(2), object(13)\n",
      "memory usage: 24.3+ MB\n"
     ]
    }
   ],
   "source": [
    "df.info()"
   ]
  },
  {
   "cell_type": "code",
   "execution_count": null,
   "id": "ebf9614b",
   "metadata": {},
   "outputs": [],
   "source": [
    "#Before I can start the analysis, I will need to do some data cleaning to remove missing values."
   ]
  },
  {
   "cell_type": "code",
   "execution_count": 5,
   "id": "13eb5469",
   "metadata": {},
   "outputs": [],
   "source": [
    "missing_values=[\"na\", \"n/a\", \"_\", \"s\"]\n",
    "df = pd.read_csv('https://raw.githubusercontent.com/CunyLaguardiaDataAnalytics/datasets/master/2014-15_To_2016-17_School-_Level_NYC_Regents_Report_For_All_Variables.csv',\n",
    "na_values = missing_values)"
   ]
  },
  {
   "cell_type": "code",
   "execution_count": 6,
   "id": "fbd883f3",
   "metadata": {},
   "outputs": [
    {
     "data": {
      "text/html": [
       "<div>\n",
       "<style scoped>\n",
       "    .dataframe tbody tr th:only-of-type {\n",
       "        vertical-align: middle;\n",
       "    }\n",
       "\n",
       "    .dataframe tbody tr th {\n",
       "        vertical-align: top;\n",
       "    }\n",
       "\n",
       "    .dataframe thead th {\n",
       "        text-align: right;\n",
       "    }\n",
       "</style>\n",
       "<table border=\"1\" class=\"dataframe\">\n",
       "  <thead>\n",
       "    <tr style=\"text-align: right;\">\n",
       "      <th></th>\n",
       "      <th>School DBN</th>\n",
       "      <th>School Name</th>\n",
       "      <th>School Level</th>\n",
       "      <th>Regents Exam</th>\n",
       "      <th>Year</th>\n",
       "      <th>Total Tested</th>\n",
       "      <th>Mean Score</th>\n",
       "      <th>Number Scoring Below 65</th>\n",
       "      <th>Percent Scoring Below 65</th>\n",
       "      <th>Number Scoring 65 or Above</th>\n",
       "      <th>Percent Scoring 65 or Above</th>\n",
       "      <th>Number Scoring 80 or Above</th>\n",
       "      <th>Percent Scoring 80 or Above</th>\n",
       "      <th>Number Scoring CR</th>\n",
       "      <th>Percent Scoring CR</th>\n",
       "    </tr>\n",
       "  </thead>\n",
       "  <tbody>\n",
       "    <tr>\n",
       "      <th>0</th>\n",
       "      <td>01M034</td>\n",
       "      <td>P.S. 034 Franklin D. Roosevelt</td>\n",
       "      <td>K-8</td>\n",
       "      <td>Common Core Algebra</td>\n",
       "      <td>2017</td>\n",
       "      <td>4</td>\n",
       "      <td>NaN</td>\n",
       "      <td>NaN</td>\n",
       "      <td>NaN</td>\n",
       "      <td>NaN</td>\n",
       "      <td>NaN</td>\n",
       "      <td>NaN</td>\n",
       "      <td>NaN</td>\n",
       "      <td>NaN</td>\n",
       "      <td>NaN</td>\n",
       "    </tr>\n",
       "    <tr>\n",
       "      <th>1</th>\n",
       "      <td>01M034</td>\n",
       "      <td>P.S. 034 Franklin D. Roosevelt</td>\n",
       "      <td>K-8</td>\n",
       "      <td>Living Environment</td>\n",
       "      <td>2015</td>\n",
       "      <td>16</td>\n",
       "      <td>77.9</td>\n",
       "      <td>1.0</td>\n",
       "      <td>6.3</td>\n",
       "      <td>15.0</td>\n",
       "      <td>93.8</td>\n",
       "      <td>7.0</td>\n",
       "      <td>43.8</td>\n",
       "      <td>NaN</td>\n",
       "      <td>NaN</td>\n",
       "    </tr>\n",
       "    <tr>\n",
       "      <th>2</th>\n",
       "      <td>01M034</td>\n",
       "      <td>P.S. 034 Franklin D. Roosevelt</td>\n",
       "      <td>K-8</td>\n",
       "      <td>Living Environment</td>\n",
       "      <td>2016</td>\n",
       "      <td>9</td>\n",
       "      <td>74.0</td>\n",
       "      <td>1.0</td>\n",
       "      <td>11.1</td>\n",
       "      <td>8.0</td>\n",
       "      <td>88.9</td>\n",
       "      <td>2.0</td>\n",
       "      <td>22.2</td>\n",
       "      <td>NaN</td>\n",
       "      <td>NaN</td>\n",
       "    </tr>\n",
       "    <tr>\n",
       "      <th>3</th>\n",
       "      <td>01M140</td>\n",
       "      <td>P.S. 140 Nathan Straus</td>\n",
       "      <td>K-8</td>\n",
       "      <td>Common Core Algebra</td>\n",
       "      <td>2016</td>\n",
       "      <td>3</td>\n",
       "      <td>NaN</td>\n",
       "      <td>NaN</td>\n",
       "      <td>NaN</td>\n",
       "      <td>NaN</td>\n",
       "      <td>NaN</td>\n",
       "      <td>NaN</td>\n",
       "      <td>NaN</td>\n",
       "      <td>NaN</td>\n",
       "      <td>NaN</td>\n",
       "    </tr>\n",
       "    <tr>\n",
       "      <th>4</th>\n",
       "      <td>01M140</td>\n",
       "      <td>P.S. 140 Nathan Straus</td>\n",
       "      <td>K-8</td>\n",
       "      <td>Common Core Algebra</td>\n",
       "      <td>2017</td>\n",
       "      <td>2</td>\n",
       "      <td>NaN</td>\n",
       "      <td>NaN</td>\n",
       "      <td>NaN</td>\n",
       "      <td>NaN</td>\n",
       "      <td>NaN</td>\n",
       "      <td>NaN</td>\n",
       "      <td>NaN</td>\n",
       "      <td>NaN</td>\n",
       "      <td>NaN</td>\n",
       "    </tr>\n",
       "    <tr>\n",
       "      <th>...</th>\n",
       "      <td>...</td>\n",
       "      <td>...</td>\n",
       "      <td>...</td>\n",
       "      <td>...</td>\n",
       "      <td>...</td>\n",
       "      <td>...</td>\n",
       "      <td>...</td>\n",
       "      <td>...</td>\n",
       "      <td>...</td>\n",
       "      <td>...</td>\n",
       "      <td>...</td>\n",
       "      <td>...</td>\n",
       "      <td>...</td>\n",
       "      <td>...</td>\n",
       "      <td>...</td>\n",
       "    </tr>\n",
       "    <tr>\n",
       "      <th>212326</th>\n",
       "      <td>84X717</td>\n",
       "      <td>Icahn Charter School</td>\n",
       "      <td>K-8</td>\n",
       "      <td>Living Environment</td>\n",
       "      <td>2016</td>\n",
       "      <td>8</td>\n",
       "      <td>NaN</td>\n",
       "      <td>NaN</td>\n",
       "      <td>NaN</td>\n",
       "      <td>NaN</td>\n",
       "      <td>NaN</td>\n",
       "      <td>NaN</td>\n",
       "      <td>NaN</td>\n",
       "      <td>NaN</td>\n",
       "      <td>NaN</td>\n",
       "    </tr>\n",
       "    <tr>\n",
       "      <th>212327</th>\n",
       "      <td>84X717</td>\n",
       "      <td>Icahn Charter School</td>\n",
       "      <td>K-8</td>\n",
       "      <td>Living Environment</td>\n",
       "      <td>2016</td>\n",
       "      <td>5</td>\n",
       "      <td>NaN</td>\n",
       "      <td>NaN</td>\n",
       "      <td>NaN</td>\n",
       "      <td>NaN</td>\n",
       "      <td>NaN</td>\n",
       "      <td>NaN</td>\n",
       "      <td>NaN</td>\n",
       "      <td>NaN</td>\n",
       "      <td>NaN</td>\n",
       "    </tr>\n",
       "    <tr>\n",
       "      <th>212328</th>\n",
       "      <td>84X717</td>\n",
       "      <td>Icahn Charter School</td>\n",
       "      <td>K-8</td>\n",
       "      <td>Living Environment</td>\n",
       "      <td>2017</td>\n",
       "      <td>6</td>\n",
       "      <td>NaN</td>\n",
       "      <td>NaN</td>\n",
       "      <td>NaN</td>\n",
       "      <td>NaN</td>\n",
       "      <td>NaN</td>\n",
       "      <td>NaN</td>\n",
       "      <td>NaN</td>\n",
       "      <td>NaN</td>\n",
       "      <td>NaN</td>\n",
       "    </tr>\n",
       "    <tr>\n",
       "      <th>212329</th>\n",
       "      <td>84X717</td>\n",
       "      <td>Icahn Charter School</td>\n",
       "      <td>K-8</td>\n",
       "      <td>Living Environment</td>\n",
       "      <td>2017</td>\n",
       "      <td>4</td>\n",
       "      <td>NaN</td>\n",
       "      <td>NaN</td>\n",
       "      <td>NaN</td>\n",
       "      <td>NaN</td>\n",
       "      <td>NaN</td>\n",
       "      <td>NaN</td>\n",
       "      <td>NaN</td>\n",
       "      <td>NaN</td>\n",
       "      <td>NaN</td>\n",
       "    </tr>\n",
       "    <tr>\n",
       "      <th>212330</th>\n",
       "      <td>84X717</td>\n",
       "      <td>Icahn Charter School</td>\n",
       "      <td>K-8</td>\n",
       "      <td>U.S. History and Government</td>\n",
       "      <td>2015</td>\n",
       "      <td>1</td>\n",
       "      <td>NaN</td>\n",
       "      <td>NaN</td>\n",
       "      <td>NaN</td>\n",
       "      <td>NaN</td>\n",
       "      <td>NaN</td>\n",
       "      <td>NaN</td>\n",
       "      <td>NaN</td>\n",
       "      <td>NaN</td>\n",
       "      <td>NaN</td>\n",
       "    </tr>\n",
       "  </tbody>\n",
       "</table>\n",
       "<p>212331 rows × 15 columns</p>\n",
       "</div>"
      ],
      "text/plain": [
       "       School DBN                     School Name School Level  \\\n",
       "0          01M034  P.S. 034 Franklin D. Roosevelt          K-8   \n",
       "1          01M034  P.S. 034 Franklin D. Roosevelt          K-8   \n",
       "2          01M034  P.S. 034 Franklin D. Roosevelt          K-8   \n",
       "3          01M140          P.S. 140 Nathan Straus          K-8   \n",
       "4          01M140          P.S. 140 Nathan Straus          K-8   \n",
       "...           ...                             ...          ...   \n",
       "212326     84X717            Icahn Charter School          K-8   \n",
       "212327     84X717            Icahn Charter School          K-8   \n",
       "212328     84X717            Icahn Charter School          K-8   \n",
       "212329     84X717            Icahn Charter School          K-8   \n",
       "212330     84X717            Icahn Charter School          K-8   \n",
       "\n",
       "                       Regents Exam  Year  Total Tested  Mean Score  \\\n",
       "0               Common Core Algebra  2017             4         NaN   \n",
       "1                Living Environment  2015            16        77.9   \n",
       "2                Living Environment  2016             9        74.0   \n",
       "3               Common Core Algebra  2016             3         NaN   \n",
       "4               Common Core Algebra  2017             2         NaN   \n",
       "...                             ...   ...           ...         ...   \n",
       "212326           Living Environment  2016             8         NaN   \n",
       "212327           Living Environment  2016             5         NaN   \n",
       "212328           Living Environment  2017             6         NaN   \n",
       "212329           Living Environment  2017             4         NaN   \n",
       "212330  U.S. History and Government  2015             1         NaN   \n",
       "\n",
       "        Number Scoring Below 65  Percent Scoring Below 65  \\\n",
       "0                           NaN                       NaN   \n",
       "1                           1.0                       6.3   \n",
       "2                           1.0                      11.1   \n",
       "3                           NaN                       NaN   \n",
       "4                           NaN                       NaN   \n",
       "...                         ...                       ...   \n",
       "212326                      NaN                       NaN   \n",
       "212327                      NaN                       NaN   \n",
       "212328                      NaN                       NaN   \n",
       "212329                      NaN                       NaN   \n",
       "212330                      NaN                       NaN   \n",
       "\n",
       "        Number Scoring 65 or Above  Percent Scoring 65 or Above  \\\n",
       "0                              NaN                          NaN   \n",
       "1                             15.0                         93.8   \n",
       "2                              8.0                         88.9   \n",
       "3                              NaN                          NaN   \n",
       "4                              NaN                          NaN   \n",
       "...                            ...                          ...   \n",
       "212326                         NaN                          NaN   \n",
       "212327                         NaN                          NaN   \n",
       "212328                         NaN                          NaN   \n",
       "212329                         NaN                          NaN   \n",
       "212330                         NaN                          NaN   \n",
       "\n",
       "        Number Scoring 80 or Above  Percent Scoring 80 or Above  \\\n",
       "0                              NaN                          NaN   \n",
       "1                              7.0                         43.8   \n",
       "2                              2.0                         22.2   \n",
       "3                              NaN                          NaN   \n",
       "4                              NaN                          NaN   \n",
       "...                            ...                          ...   \n",
       "212326                         NaN                          NaN   \n",
       "212327                         NaN                          NaN   \n",
       "212328                         NaN                          NaN   \n",
       "212329                         NaN                          NaN   \n",
       "212330                         NaN                          NaN   \n",
       "\n",
       "        Number Scoring CR  Percent Scoring CR  \n",
       "0                     NaN                 NaN  \n",
       "1                     NaN                 NaN  \n",
       "2                     NaN                 NaN  \n",
       "3                     NaN                 NaN  \n",
       "4                     NaN                 NaN  \n",
       "...                   ...                 ...  \n",
       "212326                NaN                 NaN  \n",
       "212327                NaN                 NaN  \n",
       "212328                NaN                 NaN  \n",
       "212329                NaN                 NaN  \n",
       "212330                NaN                 NaN  \n",
       "\n",
       "[212331 rows x 15 columns]"
      ]
     },
     "execution_count": 6,
     "metadata": {},
     "output_type": "execute_result"
    }
   ],
   "source": [
    "df"
   ]
  },
  {
   "cell_type": "code",
   "execution_count": 7,
   "id": "216835ca",
   "metadata": {},
   "outputs": [
    {
     "name": "stdout",
     "output_type": "stream",
     "text": [
      "<class 'pandas.core.frame.DataFrame'>\n",
      "RangeIndex: 212331 entries, 0 to 212330\n",
      "Data columns (total 15 columns):\n",
      " #   Column                       Non-Null Count   Dtype  \n",
      "---  ------                       --------------   -----  \n",
      " 0   School DBN                   212331 non-null  object \n",
      " 1   School Name                  212331 non-null  object \n",
      " 2   School Level                 212331 non-null  object \n",
      " 3   Regents Exam                 212321 non-null  object \n",
      " 4   Year                         212331 non-null  int64  \n",
      " 5   Total Tested                 212331 non-null  int64  \n",
      " 6   Mean Score                   137109 non-null  float64\n",
      " 7   Number Scoring Below 65      137109 non-null  float64\n",
      " 8   Percent Scoring Below 65     137109 non-null  float64\n",
      " 9   Number Scoring 65 or Above   137109 non-null  float64\n",
      " 10  Percent Scoring 65 or Above  137109 non-null  float64\n",
      " 11  Number Scoring 80 or Above   137109 non-null  float64\n",
      " 12  Percent Scoring 80 or Above  137109 non-null  float64\n",
      " 13  Number Scoring CR            69651 non-null   float64\n",
      " 14  Percent Scoring CR           69651 non-null   float64\n",
      "dtypes: float64(9), int64(2), object(4)\n",
      "memory usage: 24.3+ MB\n"
     ]
    }
   ],
   "source": [
    "df.info()"
   ]
  },
  {
   "cell_type": "code",
   "execution_count": null,
   "id": "4b5adcfd",
   "metadata": {},
   "outputs": [],
   "source": [
    "#Now that I have completed by data cleaning, I will need to apply filters to the data that I want to see to conduct my analysis. I will start with filtering for the 2015 data.  I will filter the data to look only at Common Core Algebra for the K-8 kids that had 90 or more that took tests and the school had more than 30% of their population score 80 or above on the test.  I also filterd the \"Mean Score\" column to look at rows that had 0 and above to remove the \"NaN\" values."
   ]
  },
  {
   "cell_type": "code",
   "execution_count": 10,
   "id": "c2bf7d16",
   "metadata": {},
   "outputs": [],
   "source": [
    "Df5 = df[(df['Regents Exam'] == 'Common Core Algebra') & (df['Year'] == 2015) & (df['School Level'] == 'K-8') & (df['Total Tested'] >=90) & (df['Mean Score'] >=0) & (df['Percent Scoring 80 or Above'] >=30)]"
   ]
  },
  {
   "cell_type": "code",
   "execution_count": 11,
   "id": "6ca643e3",
   "metadata": {
    "scrolled": true
   },
   "outputs": [
    {
     "data": {
      "text/html": [
       "<div>\n",
       "<style scoped>\n",
       "    .dataframe tbody tr th:only-of-type {\n",
       "        vertical-align: middle;\n",
       "    }\n",
       "\n",
       "    .dataframe tbody tr th {\n",
       "        vertical-align: top;\n",
       "    }\n",
       "\n",
       "    .dataframe thead th {\n",
       "        text-align: right;\n",
       "    }\n",
       "</style>\n",
       "<table border=\"1\" class=\"dataframe\">\n",
       "  <thead>\n",
       "    <tr style=\"text-align: right;\">\n",
       "      <th></th>\n",
       "      <th>School DBN</th>\n",
       "      <th>School Name</th>\n",
       "      <th>School Level</th>\n",
       "      <th>Regents Exam</th>\n",
       "      <th>Year</th>\n",
       "      <th>Total Tested</th>\n",
       "      <th>Mean Score</th>\n",
       "      <th>Number Scoring Below 65</th>\n",
       "      <th>Percent Scoring Below 65</th>\n",
       "      <th>Number Scoring 65 or Above</th>\n",
       "      <th>Percent Scoring 65 or Above</th>\n",
       "      <th>Number Scoring 80 or Above</th>\n",
       "      <th>Percent Scoring 80 or Above</th>\n",
       "      <th>Number Scoring CR</th>\n",
       "      <th>Percent Scoring CR</th>\n",
       "    </tr>\n",
       "  </thead>\n",
       "  <tbody>\n",
       "    <tr>\n",
       "      <th>324</th>\n",
       "      <td>02M126</td>\n",
       "      <td>P.S. 126 Jacob August Riis</td>\n",
       "      <td>K-8</td>\n",
       "      <td>Common Core Algebra</td>\n",
       "      <td>2015</td>\n",
       "      <td>114</td>\n",
       "      <td>74.6</td>\n",
       "      <td>17.0</td>\n",
       "      <td>14.9</td>\n",
       "      <td>97.0</td>\n",
       "      <td>85.1</td>\n",
       "      <td>40.0</td>\n",
       "      <td>35.1</td>\n",
       "      <td>89.0</td>\n",
       "      <td>78.1</td>\n",
       "    </tr>\n",
       "    <tr>\n",
       "      <th>13437</th>\n",
       "      <td>24Q119</td>\n",
       "      <td>I.S. 119 The Glendale</td>\n",
       "      <td>K-8</td>\n",
       "      <td>Common Core Algebra</td>\n",
       "      <td>2015</td>\n",
       "      <td>166</td>\n",
       "      <td>82.4</td>\n",
       "      <td>4.0</td>\n",
       "      <td>2.4</td>\n",
       "      <td>162.0</td>\n",
       "      <td>97.6</td>\n",
       "      <td>99.0</td>\n",
       "      <td>59.6</td>\n",
       "      <td>150.0</td>\n",
       "      <td>90.4</td>\n",
       "    </tr>\n",
       "    <tr>\n",
       "      <th>20041</th>\n",
       "      <td>02M126</td>\n",
       "      <td>P.S. 126 Jacob August Riis</td>\n",
       "      <td>K-8</td>\n",
       "      <td>Common Core Algebra</td>\n",
       "      <td>2015</td>\n",
       "      <td>93</td>\n",
       "      <td>78.6</td>\n",
       "      <td>3.0</td>\n",
       "      <td>3.2</td>\n",
       "      <td>90.0</td>\n",
       "      <td>96.8</td>\n",
       "      <td>40.0</td>\n",
       "      <td>43.0</td>\n",
       "      <td>86.0</td>\n",
       "      <td>92.5</td>\n",
       "    </tr>\n",
       "    <tr>\n",
       "      <th>88046</th>\n",
       "      <td>24Q119</td>\n",
       "      <td>I.S. 119 The Glendale</td>\n",
       "      <td>K-8</td>\n",
       "      <td>Common Core Algebra</td>\n",
       "      <td>2015</td>\n",
       "      <td>123</td>\n",
       "      <td>82.3</td>\n",
       "      <td>2.0</td>\n",
       "      <td>1.6</td>\n",
       "      <td>121.0</td>\n",
       "      <td>98.4</td>\n",
       "      <td>69.0</td>\n",
       "      <td>56.1</td>\n",
       "      <td>112.0</td>\n",
       "      <td>91.1</td>\n",
       "    </tr>\n",
       "  </tbody>\n",
       "</table>\n",
       "</div>"
      ],
      "text/plain": [
       "      School DBN                 School Name School Level  \\\n",
       "324       02M126  P.S. 126 Jacob August Riis          K-8   \n",
       "13437     24Q119       I.S. 119 The Glendale          K-8   \n",
       "20041     02M126  P.S. 126 Jacob August Riis          K-8   \n",
       "88046     24Q119       I.S. 119 The Glendale          K-8   \n",
       "\n",
       "              Regents Exam  Year  Total Tested  Mean Score  \\\n",
       "324    Common Core Algebra  2015           114        74.6   \n",
       "13437  Common Core Algebra  2015           166        82.4   \n",
       "20041  Common Core Algebra  2015            93        78.6   \n",
       "88046  Common Core Algebra  2015           123        82.3   \n",
       "\n",
       "       Number Scoring Below 65  Percent Scoring Below 65  \\\n",
       "324                       17.0                      14.9   \n",
       "13437                      4.0                       2.4   \n",
       "20041                      3.0                       3.2   \n",
       "88046                      2.0                       1.6   \n",
       "\n",
       "       Number Scoring 65 or Above  Percent Scoring 65 or Above  \\\n",
       "324                          97.0                         85.1   \n",
       "13437                       162.0                         97.6   \n",
       "20041                        90.0                         96.8   \n",
       "88046                       121.0                         98.4   \n",
       "\n",
       "       Number Scoring 80 or Above  Percent Scoring 80 or Above  \\\n",
       "324                          40.0                         35.1   \n",
       "13437                        99.0                         59.6   \n",
       "20041                        40.0                         43.0   \n",
       "88046                        69.0                         56.1   \n",
       "\n",
       "       Number Scoring CR  Percent Scoring CR  \n",
       "324                 89.0                78.1  \n",
       "13437              150.0                90.4  \n",
       "20041               86.0                92.5  \n",
       "88046              112.0                91.1  "
      ]
     },
     "execution_count": 11,
     "metadata": {},
     "output_type": "execute_result"
    }
   ],
   "source": [
    "Df5"
   ]
  },
  {
   "cell_type": "code",
   "execution_count": null,
   "id": "e4f67244",
   "metadata": {},
   "outputs": [],
   "source": [
    "#After applying the filtering, P.S. 126 Jacob August Riis in Manhattan and I.S. 119 The Glendale schools in Queens were identified.  However, I can see that both schools appear on two rows each. If I want to combine the data to complete my analysis, I would need to use the GroupBy function to agregate the data. "
   ]
  },
  {
   "cell_type": "code",
   "execution_count": 12,
   "id": "19103f6a",
   "metadata": {},
   "outputs": [],
   "source": [
    "School_Scores_2015 = Df5.groupby(\"School Name\") [\"Mean Score\"].mean().sort_values()"
   ]
  },
  {
   "cell_type": "code",
   "execution_count": 59,
   "id": "ef622637",
   "metadata": {},
   "outputs": [
    {
     "data": {
      "text/plain": [
       "Text(0, 0.5, 'Mean Score')"
      ]
     },
     "execution_count": 59,
     "metadata": {},
     "output_type": "execute_result"
    },
    {
     "data": {
      "image/png": "[encoded data removed]",
      "text/plain": [
       "<Figure size 640x480 with 1 Axes>"
      ]
     },
     "metadata": {},
     "output_type": "display_data"
    }
   ],
   "source": [
    "School_Scores_2015.plot(x=\"School Name\", y=\"Mean Score\", kind=\"bar\", rot=0, fontsize=8, color='k')\n",
    "plt.title(\"2015 Mean Score\")\n",
    "plt.ylabel(\"Mean Score\")"
   ]
  },
  {
   "cell_type": "code",
   "execution_count": 17,
   "id": "1f930d09",
   "metadata": {},
   "outputs": [
    {
     "data": {
      "text/plain": [
       "School Name\n",
       "I.S. 119 The Glendale         82.35\n",
       "P.S. 126 Jacob August Riis    76.60\n",
       "Name: Mean Score, dtype: float64"
      ]
     },
     "execution_count": 17,
     "metadata": {},
     "output_type": "execute_result"
    }
   ],
   "source": [
    "Df5.groupby([\"School Name\"])[\"Mean Score\"].mean()"
   ]
  },
  {
   "cell_type": "code",
   "execution_count": 14,
   "id": "69695e46",
   "metadata": {},
   "outputs": [],
   "source": [
    "School_Scores_2015 = Df5.groupby(\"School Name\") [\"Percent Scoring 80 or Above\"].mean().sort_values()"
   ]
  },
  {
   "cell_type": "code",
   "execution_count": 61,
   "id": "4aea79db",
   "metadata": {},
   "outputs": [
    {
     "data": {
      "text/plain": [
       "Text(0, 0.5, 'Percent Score')"
      ]
     },
     "execution_count": 61,
     "metadata": {},
     "output_type": "execute_result"
    },
    {
     "data": {
      "image/png": "[encoded data removed]",
      "text/plain": [
       "<Figure size 640x480 with 1 Axes>"
      ]
     },
     "metadata": {},
     "output_type": "display_data"
    }
   ],
   "source": [
    "School_Scores_2015.plot(x=\"School Name\", y=\"Percent Scoring 80 or Above\", kind=\"bar\", rot=0, fontsize=8)\n",
    "plt.title(\"2015 Percent Scoring 80 or Above\")\n",
    "plt.ylabel(\"Percent Score\")"
   ]
  },
  {
   "cell_type": "code",
   "execution_count": 18,
   "id": "f3b2e79d",
   "metadata": {},
   "outputs": [
    {
     "data": {
      "text/plain": [
       "School Name\n",
       "I.S. 119 The Glendale         57.85\n",
       "P.S. 126 Jacob August Riis    39.05\n",
       "Name: Percent Scoring 80 or Above, dtype: float64"
      ]
     },
     "execution_count": 18,
     "metadata": {},
     "output_type": "execute_result"
    }
   ],
   "source": [
    "Df5.groupby([\"School Name\"])[\"Percent Scoring 80 or Above\"].mean()"
   ]
  },
  {
   "cell_type": "code",
   "execution_count": null,
   "id": "0541479f",
   "metadata": {},
   "outputs": [],
   "source": [
    "#As demonstrated by the bar graphs above and tables, I.S. 119 The Glendale had a higher mean among their test takers at 82.35% in comparison to P.S.126 Jacob August Riis at 76.60%.  I.S. 199 The Glendale also had a higher percentage of test takers that scored 80 or above at 57.85% in comparison to P.S. 126 Jacob August Riis at 39.05%."
   ]
  },
  {
   "cell_type": "code",
   "execution_count": null,
   "id": "ace80edb",
   "metadata": {},
   "outputs": [],
   "source": [
    "#Now that I have reviewed 2015 performance data, I will review 2017 performance data for Common Core Algebra for both schools using the same filters."
   ]
  },
  {
   "cell_type": "code",
   "execution_count": 19,
   "id": "7f41e0b2",
   "metadata": {},
   "outputs": [],
   "source": [
    "Df6 = df[(df['Regents Exam'] == 'Common Core Algebra') & (df['Year'] == 2017) & (df['School Level'] == 'K-8') & (df['Total Tested'] >=90) & (df['Mean Score'] >=0)]"
   ]
  },
  {
   "cell_type": "code",
   "execution_count": 20,
   "id": "2708ee3a",
   "metadata": {},
   "outputs": [
    {
     "data": {
      "text/html": [
       "<div>\n",
       "<style scoped>\n",
       "    .dataframe tbody tr th:only-of-type {\n",
       "        vertical-align: middle;\n",
       "    }\n",
       "\n",
       "    .dataframe tbody tr th {\n",
       "        vertical-align: top;\n",
       "    }\n",
       "\n",
       "    .dataframe thead th {\n",
       "        text-align: right;\n",
       "    }\n",
       "</style>\n",
       "<table border=\"1\" class=\"dataframe\">\n",
       "  <thead>\n",
       "    <tr style=\"text-align: right;\">\n",
       "      <th></th>\n",
       "      <th>School DBN</th>\n",
       "      <th>School Name</th>\n",
       "      <th>School Level</th>\n",
       "      <th>Regents Exam</th>\n",
       "      <th>Year</th>\n",
       "      <th>Total Tested</th>\n",
       "      <th>Mean Score</th>\n",
       "      <th>Number Scoring Below 65</th>\n",
       "      <th>Percent Scoring Below 65</th>\n",
       "      <th>Number Scoring 65 or Above</th>\n",
       "      <th>Percent Scoring 65 or Above</th>\n",
       "      <th>Number Scoring 80 or Above</th>\n",
       "      <th>Percent Scoring 80 or Above</th>\n",
       "      <th>Number Scoring CR</th>\n",
       "      <th>Percent Scoring CR</th>\n",
       "    </tr>\n",
       "  </thead>\n",
       "  <tbody>\n",
       "    <tr>\n",
       "      <th>326</th>\n",
       "      <td>02M126</td>\n",
       "      <td>P.S. 126 Jacob August Riis</td>\n",
       "      <td>K-8</td>\n",
       "      <td>Common Core Algebra</td>\n",
       "      <td>2017</td>\n",
       "      <td>103</td>\n",
       "      <td>79.9</td>\n",
       "      <td>16.0</td>\n",
       "      <td>15.5</td>\n",
       "      <td>87.0</td>\n",
       "      <td>84.5</td>\n",
       "      <td>75.0</td>\n",
       "      <td>72.8</td>\n",
       "      <td>85.0</td>\n",
       "      <td>82.5</td>\n",
       "    </tr>\n",
       "    <tr>\n",
       "      <th>13439</th>\n",
       "      <td>24Q119</td>\n",
       "      <td>I.S. 119 The Glendale</td>\n",
       "      <td>K-8</td>\n",
       "      <td>Common Core Algebra</td>\n",
       "      <td>2017</td>\n",
       "      <td>109</td>\n",
       "      <td>92.3</td>\n",
       "      <td>1.0</td>\n",
       "      <td>0.9</td>\n",
       "      <td>108.0</td>\n",
       "      <td>99.1</td>\n",
       "      <td>106.0</td>\n",
       "      <td>97.2</td>\n",
       "      <td>108.0</td>\n",
       "      <td>99.1</td>\n",
       "    </tr>\n",
       "    <tr>\n",
       "      <th>20045</th>\n",
       "      <td>02M126</td>\n",
       "      <td>P.S. 126 Jacob August Riis</td>\n",
       "      <td>K-8</td>\n",
       "      <td>Common Core Algebra</td>\n",
       "      <td>2017</td>\n",
       "      <td>91</td>\n",
       "      <td>82.8</td>\n",
       "      <td>7.0</td>\n",
       "      <td>7.7</td>\n",
       "      <td>84.0</td>\n",
       "      <td>92.3</td>\n",
       "      <td>74.0</td>\n",
       "      <td>81.3</td>\n",
       "      <td>83.0</td>\n",
       "      <td>91.2</td>\n",
       "    </tr>\n",
       "    <tr>\n",
       "      <th>43504</th>\n",
       "      <td>24Q119</td>\n",
       "      <td>I.S. 119 The Glendale</td>\n",
       "      <td>K-8</td>\n",
       "      <td>Common Core Algebra</td>\n",
       "      <td>2017</td>\n",
       "      <td>109</td>\n",
       "      <td>92.3</td>\n",
       "      <td>1.0</td>\n",
       "      <td>0.9</td>\n",
       "      <td>108.0</td>\n",
       "      <td>99.1</td>\n",
       "      <td>106.0</td>\n",
       "      <td>97.2</td>\n",
       "      <td>108.0</td>\n",
       "      <td>99.1</td>\n",
       "    </tr>\n",
       "    <tr>\n",
       "      <th>88050</th>\n",
       "      <td>24Q119</td>\n",
       "      <td>I.S. 119 The Glendale</td>\n",
       "      <td>K-8</td>\n",
       "      <td>Common Core Algebra</td>\n",
       "      <td>2017</td>\n",
       "      <td>94</td>\n",
       "      <td>92.4</td>\n",
       "      <td>1.0</td>\n",
       "      <td>1.1</td>\n",
       "      <td>93.0</td>\n",
       "      <td>98.9</td>\n",
       "      <td>92.0</td>\n",
       "      <td>97.9</td>\n",
       "      <td>93.0</td>\n",
       "      <td>98.9</td>\n",
       "    </tr>\n",
       "  </tbody>\n",
       "</table>\n",
       "</div>"
      ],
      "text/plain": [
       "      School DBN                 School Name School Level  \\\n",
       "326       02M126  P.S. 126 Jacob August Riis          K-8   \n",
       "13439     24Q119       I.S. 119 The Glendale          K-8   \n",
       "20045     02M126  P.S. 126 Jacob August Riis          K-8   \n",
       "43504     24Q119       I.S. 119 The Glendale          K-8   \n",
       "88050     24Q119       I.S. 119 The Glendale          K-8   \n",
       "\n",
       "              Regents Exam  Year  Total Tested  Mean Score  \\\n",
       "326    Common Core Algebra  2017           103        79.9   \n",
       "13439  Common Core Algebra  2017           109        92.3   \n",
       "20045  Common Core Algebra  2017            91        82.8   \n",
       "43504  Common Core Algebra  2017           109        92.3   \n",
       "88050  Common Core Algebra  2017            94        92.4   \n",
       "\n",
       "       Number Scoring Below 65  Percent Scoring Below 65  \\\n",
       "326                       16.0                      15.5   \n",
       "13439                      1.0                       0.9   \n",
       "20045                      7.0                       7.7   \n",
       "43504                      1.0                       0.9   \n",
       "88050                      1.0                       1.1   \n",
       "\n",
       "       Number Scoring 65 or Above  Percent Scoring 65 or Above  \\\n",
       "326                          87.0                         84.5   \n",
       "13439                       108.0                         99.1   \n",
       "20045                        84.0                         92.3   \n",
       "43504                       108.0                         99.1   \n",
       "88050                        93.0                         98.9   \n",
       "\n",
       "       Number Scoring 80 or Above  Percent Scoring 80 or Above  \\\n",
       "326                          75.0                         72.8   \n",
       "13439                       106.0                         97.2   \n",
       "20045                        74.0                         81.3   \n",
       "43504                       106.0                         97.2   \n",
       "88050                        92.0                         97.9   \n",
       "\n",
       "       Number Scoring CR  Percent Scoring CR  \n",
       "326                 85.0                82.5  \n",
       "13439              108.0                99.1  \n",
       "20045               83.0                91.2  \n",
       "43504              108.0                99.1  \n",
       "88050               93.0                98.9  "
      ]
     },
     "execution_count": 20,
     "metadata": {},
     "output_type": "execute_result"
    }
   ],
   "source": [
    "Df6"
   ]
  },
  {
   "cell_type": "code",
   "execution_count": null,
   "id": "bba9be6e",
   "metadata": {},
   "outputs": [],
   "source": [
    "#Similiar to what was done for 2015 data, I will also need to use the Groupby function to aggregate the data since each school's data appear on two rows each."
   ]
  },
  {
   "cell_type": "code",
   "execution_count": 21,
   "id": "7285c04e",
   "metadata": {},
   "outputs": [],
   "source": [
    "School_Scores_2017 = Df6.groupby(\"School Name\") [\"Mean Score\"].mean().sort_values()"
   ]
  },
  {
   "cell_type": "code",
   "execution_count": 62,
   "id": "5ee016a9",
   "metadata": {},
   "outputs": [
    {
     "data": {
      "text/plain": [
       "Text(0, 0.5, 'Mean Score')"
      ]
     },
     "execution_count": 62,
     "metadata": {},
     "output_type": "execute_result"
    },
    {
     "data": {
      "image/png": "[encoded data removed]",
      "text/plain": [
       "<Figure size 640x480 with 1 Axes>"
      ]
     },
     "metadata": {},
     "output_type": "display_data"
    }
   ],
   "source": [
    "School_Scores_2017.plot(x=\"School Name\", y=\"Mean Score\", kind=\"bar\", rot=0, fontsize=8, color='k')\n",
    "plt.title(\"2017 Mean Score\")\n",
    "plt.ylabel(\"Mean Score\")"
   ]
  },
  {
   "cell_type": "code",
   "execution_count": 24,
   "id": "9d918a12",
   "metadata": {},
   "outputs": [
    {
     "data": {
      "text/plain": [
       "School Name\n",
       "I.S. 119 The Glendale         92.333333\n",
       "P.S. 126 Jacob August Riis    81.350000\n",
       "Name: Mean Score, dtype: float64"
      ]
     },
     "execution_count": 24,
     "metadata": {},
     "output_type": "execute_result"
    }
   ],
   "source": [
    "Df6.groupby([\"School Name\"])[\"Mean Score\"].mean()"
   ]
  },
  {
   "cell_type": "code",
   "execution_count": 25,
   "id": "7d46c227",
   "metadata": {},
   "outputs": [],
   "source": [
    "School_Scores_2017 = Df6.groupby(\"School Name\") [\"Percent Scoring 80 or Above\"].mean().sort_values()"
   ]
  },
  {
   "cell_type": "code",
   "execution_count": 63,
   "id": "c96e1c80",
   "metadata": {},
   "outputs": [
    {
     "data": {
      "text/plain": [
       "Text(0, 0.5, 'Percent Score')"
      ]
     },
     "execution_count": 63,
     "metadata": {},
     "output_type": "execute_result"
    },
    {
     "data": {
      "image/png": "[encoded data removed]",
      "text/plain": [
       "<Figure size 640x480 with 1 Axes>"
      ]
     },
     "metadata": {},
     "output_type": "display_data"
    }
   ],
   "source": [
    "School_Scores_2017.plot(x=\"School Name\", y=\"Percent Scoring 80 or Above\", kind=\"bar\", rot=0, fontsize=8)\n",
    "plt.title(\"2017 Percent Scoring 80 or Above\")\n",
    "plt.ylabel(\"Percent Score\")"
   ]
  },
  {
   "cell_type": "code",
   "execution_count": 27,
   "id": "872705b6",
   "metadata": {},
   "outputs": [
    {
     "data": {
      "text/plain": [
       "School Name\n",
       "I.S. 119 The Glendale         97.433333\n",
       "P.S. 126 Jacob August Riis    77.050000\n",
       "Name: Percent Scoring 80 or Above, dtype: float64"
      ]
     },
     "execution_count": 27,
     "metadata": {},
     "output_type": "execute_result"
    }
   ],
   "source": [
    "Df6.groupby([\"School Name\"])[\"Percent Scoring 80 or Above\"].mean()"
   ]
  },
  {
   "cell_type": "code",
   "execution_count": null,
   "id": "ffcd1c63",
   "metadata": {},
   "outputs": [],
   "source": [
    "#As demonstrated by the bar graphs above and tables, I.S. 119 The Glendale had a higher mean score at 92.33% in comparison to P.S.126 Jacob August Riis at 81.35%.  I.S. 199 The Glendale also had a higher percentage of test takers that scored 80 or above at 97.43% in comparison to P.S. 126 Jacob August Riis at 77.05%."
   ]
  },
  {
   "cell_type": "code",
   "execution_count": null,
   "id": "a306f49d",
   "metadata": {},
   "outputs": [],
   "source": [
    "#Now that I have looked at the performance for 2015 and 2017 separately for both schools, I will compare performance scores between 2015 and 2017 to see how much improvement was achieved and which school demonstrated the most improvement."
   ]
  },
  {
   "cell_type": "code",
   "execution_count": 52,
   "id": "ac5ed6ea",
   "metadata": {},
   "outputs": [],
   "source": [
    "import matplotlib.pyplot as plt"
   ]
  },
  {
   "cell_type": "code",
   "execution_count": 56,
   "id": "21c0d917",
   "metadata": {},
   "outputs": [
    {
     "data": {
      "text/plain": [
       "Text(0, 0.5, 'Mean Score')"
      ]
     },
     "execution_count": 56,
     "metadata": {},
     "output_type": "execute_result"
    },
    {
     "data": {
      "image/png": "[encoded data removed]",
      "text/plain": [
       "<Figure size 1500x800 with 1 Axes>"
      ]
     },
     "metadata": {},
     "output_type": "display_data"
    }
   ],
   "source": [
    "plotdata = pd.DataFrame({\n",
    "    \"2015\":[82,76],\n",
    "    \"2017\":[92,81]},\n",
    "    index=[\"I.S. 119 The Glendale\", \"P.S. 126 Jacob August Riis\"])\n",
    "plotdata.plot(kind=\"bar\",figsize=(15,8), rot=0)\n",
    "plt.title(\"Mean Score Comparison between 2015 and 2017\")\n",
    "plt.xlabel(\"School Name\")\n",
    "plt.ylabel(\"Mean Score\")"
   ]
  },
  {
   "cell_type": "code",
   "execution_count": null,
   "id": "1b568c1a",
   "metadata": {},
   "outputs": [],
   "source": [
    "#As demonstrated from the bar graph above, I.S. 119 The Glendale school in Queens had the most improvement over P.S. 126 Jacob August Riis in Manhattan.  The Glendale performance increased 12% in 2017 from 2015 in comparison to Jacob August Riis 6% improvement. Furthermore, in both years, The Glendale School had higher scores than Jacob August Riis School by 6 percentage points in 2015 and 11 percentage points in 2017. "
   ]
  },
  {
   "cell_type": "code",
   "execution_count": 57,
   "id": "fd3905e4",
   "metadata": {},
   "outputs": [
    {
     "data": {
      "text/plain": [
       "Text(0, 0.5, 'Percent Scoring 80 or Above')"
      ]
     },
     "execution_count": 57,
     "metadata": {},
     "output_type": "execute_result"
    },
    {
     "data": {
      "image/png": "[encoded data removed]",
      "text/plain": [
       "<Figure size 1500x800 with 1 Axes>"
      ]
     },
     "metadata": {},
     "output_type": "display_data"
    }
   ],
   "source": [
    "plotdata = pd.DataFrame({\n",
    "    \"2015\":[58,39],\n",
    "    \"2017\":[97,77]},\n",
    "    index=[\"I.S. 119 The Glendale\", \"P.S. 126 Jacob August Riis\"])\n",
    "plotdata.plot(kind=\"bar\",figsize=(15,8), rot=0)\n",
    "plt.title(\"Percent Scoring 80 or Above Comparison between 2015 and 2017\")\n",
    "plt.xlabel(\"School Name\")\n",
    "plt.ylabel(\"Percent Scoring 80 or Above\")"
   ]
  },
  {
   "cell_type": "code",
   "execution_count": null,
   "id": "3434dac3",
   "metadata": {},
   "outputs": [],
   "source": [
    "#In contrast to the Mean Score, and as indicated by the bar graph above looking at \"Percent Scoring 80 or Above\" in 2015 and 2017, The Jacob August Riis school showed more improvement from 2015 to 2017 by 97% in comparison to The Glendale's 41% change. However, The Glendale School still outperformed Jacob August Riis by the overall percentage of test takers that scored 80 or above by 19 percentage points in 2015 and 20 percentage points in 2017."
   ]
  },
  {
   "cell_type": "code",
   "execution_count": null,
   "id": "fc3ac3f6",
   "metadata": {},
   "outputs": [],
   "source": [
    "#The I.S. 119 The Glendale School in Queens, New York outperforms P.S. 126 Jacob August Riis School in Manhatten by having a higher Mean Score and having a higher percentage of test takers scoring 80 or above. Additionally, The Glendale School had a higher increase in their Mean Score from 2015 to 2017. While the Glendale School also had a signicant increase in the percent of test takers scoring 80 or above from 2015 to 2017, the Jacob August Riis School experienced a much higher improvement by 97% in comparison to The Glendale's school 41% increase.   "
   ]
  }
 ],
 "metadata": {
  "kernelspec": {
   "display_name": "Python 3 (ipykernel)",
   "language": "python",
   "name": "python3"
  },
  "language_info": {
   "codemirror_mode": {
    "name": "ipython",
    "version": 3
   },
   "file_extension": ".py",
   "mimetype": "text/x-python",
   "name": "python",
   "nbconvert_exporter": "python",
   "pygments_lexer": "ipython3",
   "version": "3.11.5"
  }
 },
 "nbformat": 4,
 "nbformat_minor": 5
}
